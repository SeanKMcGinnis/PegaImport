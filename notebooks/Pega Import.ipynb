{
 "cells": [
  {
   "cell_type": "code",
   "execution_count": 1,
   "metadata": {
    "collapsed": true
   },
   "outputs": [],
   "source": [
    "from arcgis.gis import GIS\n",
    "import json\n",
    "import requests\n",
    "from requests.auth import HTTPBasicAuth\n",
    "from getpass import getpass\n",
    "from IPython.display import display\n",
    "\n",
    "\n",
    "## Debug Flag\n",
    "debug = True\n",
    "## Temporary File Name\n",
    "pega_temp = \"pega_response.geojson\""
   ]
  },
  {
   "cell_type": "code",
   "execution_count": 2,
   "metadata": {},
   "outputs": [
    {
     "name": "stdout",
     "output_type": "stream",
     "text": [
      "········\n",
      "{'features': [{'properties': {'caseRef': 'IRS-SAMPLEAP-WORK M-88', 'createdBy': 'Alexei Ivanov', 'lastUpdateTime': '2017-07-17T13:26:01.005Z', 'name': 'Missing Refund', 'caseType': 'IRS_SampleAp_Work_MissingRefund', 'createTime': '2017-07-17T13:24:11.512Z', 'lastUpdatedBy': 'Alexei Ivanov'}, 'geometry': {'coordinates': [-77.1823399, 39.1498103], 'type': 'Point'}, 'type': 'Feature'}, {'properties': {'caseRef': 'IRS-SAMPLEAP-WORK R-31', 'createdBy': 'Alexei Ivanov', 'lastUpdateTime': '2017-07-31T13:26:26.570Z', 'name': 'Return Investigation', 'caseType': 'IRS_SampleAp_Work_ReturnInvestigation', 'createTime': '2017-07-17T13:26:15.847Z', 'lastUpdatedBy': 'Alexei Ivanov'}, 'geometry': {'coordinates': [-77.18234319999999, 39.1498083], 'type': 'Point'}, 'type': 'Feature'}], 'type': 'FeatureCollection'}\n"
     ]
    }
   ],
   "source": [
    "#### Pega URL Request\n",
    "pega_REST = 'http://irsecm.pegatsdemo.com:8080/prweb/PRRestService/esriapi/v1/casesGeojson'\n",
    "pega_user = 'esri.restAPI'\n",
    "pega_password = getpass()\n",
    "\n",
    "pega_response = requests.get(pega_REST, auth=HTTPBasicAuth(pega_user, pega_password))\n",
    "pega_file = open(pega_temp, \"w\")\n",
    "pega_file.write(str(pega_response.json()))\n",
    "pega_file.close()\n",
    "\n",
    "if(debug):\n",
    "    print(pega_response.json())"
   ]
  },
  {
   "cell_type": "code",
   "execution_count": null,
   "metadata": {
    "collapsed": true
   },
   "outputs": [],
   "source": [
    "#### Connect to ArcGIS Online\n",
    "agol_url = 'https://seankmcg.maps.arcgis.com'\n",
    "agol_user = 'PegaLoader'\n",
    "agol_password = getpass()\n",
    "\n",
    "gis = GIS(agol_url, agol_user, agol_password)\n",
    "\n",
    "if(debug):\n",
    "    print(gis)"
   ]
  },
  {
   "cell_type": "code",
   "execution_count": 66,
   "metadata": {
    "collapsed": true
   },
   "outputs": [],
   "source": [
    "#### Check to see if the Item Exists in AGOL\n",
    "query_string = 'title: Pega Cases'\n",
    "item_search = gis.content.search(query_string, 'GeoJSON')\n",
    "\n",
    "if(debug):\n",
    "    print(len(item_search))"
   ]
  },
  {
   "cell_type": "code",
   "execution_count": 67,
   "metadata": {
    "collapsed": true
   },
   "outputs": [],
   "source": [
    "#### Publish the Item to AGOL\\\n",
    "if len(item_search) == 0:\n",
    "    pega_item = gis.content.add({\n",
    "        'title': 'Pega Cases',\n",
    "        'tags': 'Pega, Demo, Test',\n",
    "        'type': 'GeoJson',\n",
    "        'typeKeywords': 'Coordinates Type, CRS, Feature, FeatureCollection, GeoJSON, Geometry, GeometryCollection'\n",
    "    }, pega_temp)\n",
    "    pega_fl = pega_item.publish()\n",
    "else:\n",
    "    if(debug):\n",
    "        print(\"Handle item update\")\n",
    "    item_search[0].update(None, pega_temp)\n",
    "\n",
    "if debug:\n",
    "    display(pega_item)\n",
    "    pega_map = gis.map()\n",
    "    fl_search = gis.content.search(query_string, 'Feature Layer')\n",
    "    pega_map.add_layer(fl_search[0])\n",
    "    pega_map"
   ]
  },
  {
   "cell_type": "code",
   "execution_count": null,
   "metadata": {
    "collapsed": true
   },
   "outputs": [],
   "source": []
  }
 ],
 "metadata": {
  "anaconda-cloud": {},
  "kernelspec": {
   "display_name": "Python [default]",
   "language": "python",
   "name": "python3"
  },
  "language_info": {
   "codemirror_mode": {
    "name": "ipython",
    "version": 3
   },
   "file_extension": ".py",
   "mimetype": "text/x-python",
   "name": "python",
   "nbconvert_exporter": "python",
   "pygments_lexer": "ipython3",
   "version": "3.5.2"
  }
 },
 "nbformat": 4,
 "nbformat_minor": 2
}
